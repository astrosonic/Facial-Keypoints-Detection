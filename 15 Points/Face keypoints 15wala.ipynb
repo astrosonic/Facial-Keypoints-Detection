{
 "cells": [
  {
   "cell_type": "code",
   "execution_count": 1,
   "metadata": {},
   "outputs": [],
   "source": [
    "from tensorflow.keras.models import load_model\n",
    "import cv2 as cv\n",
    "import numpy as np"
   ]
  },
  {
   "cell_type": "code",
   "execution_count": 2,
   "metadata": {},
   "outputs": [],
   "source": [
    "face=cv.CascadeClassifier(\"haarcascade_frontalface_default.xml\")"
   ]
  },
  {
   "cell_type": "code",
   "execution_count": 3,
   "metadata": {},
   "outputs": [],
   "source": [
    "model=load_model(\"15_points_model.h5\")"
   ]
  },
  {
   "cell_type": "code",
   "execution_count": null,
   "metadata": {},
   "outputs": [],
   "source": []
  },
  {
   "cell_type": "code",
   "execution_count": null,
   "metadata": {},
   "outputs": [],
   "source": []
  },
  {
   "cell_type": "code",
   "execution_count": 4,
   "metadata": {},
   "outputs": [],
   "source": [
    "def preprocessing(images):\n",
    "    images=images/255.0\n",
    "    images=images.astype(np.float32)\n",
    "    return images.reshape(1,96,96,1)"
   ]
  },
  {
   "cell_type": "code",
   "execution_count": 5,
   "metadata": {
    "scrolled": true
   },
   "outputs": [],
   "source": [
    "cam=cv.VideoCapture(0)\n",
    "while True:\n",
    "    ret,frame=cam.read()\n",
    "    temp=frame.copy()\n",
    "    temp1=face.detectMultiScale(temp)\n",
    "    for (x,y,z,w) in temp1:\n",
    "        cv.rectangle(temp,(x,y),(x+z,y+w),color=(0,255,255))\n",
    "    #cv.imshow('frame',temp)\n",
    "    try:\n",
    "        new_frame=frame[temp1[0][1]:temp1[0][1]+temp1[0][3],temp1[0][0]:temp1[0][0]+temp1[0][2],:].copy()\n",
    "        original=new_frame.shape\n",
    "        new_frame=cv.resize(new_frame,(96,96))\n",
    "        #cv.imshow('new',new_frame)\n",
    "        gray_frame=cv.cvtColor(new_frame,cv.COLOR_BGR2GRAY)\n",
    "        gray_frame=preprocessing(gray_frame)\n",
    "        output=model.predict(gray_frame)\n",
    "        for i in range(0,len(output[0]),2):\n",
    "            cv.circle(img=new_frame,\n",
    "                      center=(int((output[0][i])*48+48),int((output[0][i+1])*48+48)),\n",
    "                      radius=2,color=(255,255,255))\n",
    "        #cv.imshow('output',new_frame)\n",
    "        frame[temp1[0][1]:temp1[0][1]+temp1[0][3],\n",
    "              temp1[0][0]:temp1[0][0]+temp1[0][2],:]=cv.resize(new_frame,tuple(original)[:-1])\n",
    "        cv.imshow('frame1',frame)\n",
    "    except:\n",
    "        pass\n",
    "    if(cv.waitKey(1)&0xff==ord('q')):\n",
    "        break\n",
    "cam.release()\n",
    "cv.destroyAllWindows()"
   ]
  },
  {
   "cell_type": "code",
   "execution_count": null,
   "metadata": {},
   "outputs": [],
   "source": []
  }
 ],
 "metadata": {
  "kernelspec": {
   "display_name": "Python 3",
   "language": "python",
   "name": "python3"
  },
  "language_info": {
   "codemirror_mode": {
    "name": "ipython",
    "version": 3
   },
   "file_extension": ".py",
   "mimetype": "text/x-python",
   "name": "python",
   "nbconvert_exporter": "python",
   "pygments_lexer": "ipython3",
   "version": "3.7.7"
  }
 },
 "nbformat": 4,
 "nbformat_minor": 4
}
