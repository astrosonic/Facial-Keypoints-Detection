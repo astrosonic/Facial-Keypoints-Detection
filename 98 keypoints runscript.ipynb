{
 "cells": [
  {
   "cell_type": "code",
   "execution_count": null,
   "metadata": {},
   "outputs": [],
   "source": [
    "import cv2 as cv\n",
    "import numpy as np\n",
    "import pandas as pd\n",
    "import resizer as re\n",
    "from tensorflow.keras.models import load_model\n",
    "WIDTH=HEIGHT=100"
   ]
  },
  {
   "cell_type": "code",
   "execution_count": null,
   "metadata": {},
   "outputs": [],
   "source": [
    "obj=re.Resizer(WIDTH,HEIGHT,1.1)"
   ]
  },
  {
   "cell_type": "code",
   "execution_count": null,
   "metadata": {},
   "outputs": [],
   "source": [
    "model=load_model(\"model98keypoints.h5\")"
   ]
  },
  {
   "cell_type": "code",
   "execution_count": null,
   "metadata": {},
   "outputs": [],
   "source": [
    "cam=cv.VideoCapture(0)\n",
    "while True:\n",
    "    ret,frame=cam.read()\n",
    "    img,faces=obj.get_resized_withoutdata(frame)\n",
    "    try:\n",
    "        temp=img[0].copy()\n",
    "        temp=cv.cvtColor(temp,cv.COLOR_BGR2GRAY)\n",
    "        temp=temp.reshape(1,WIDTH,HEIGHT,1)\n",
    "        data=model.predict(temp)\n",
    "        data=obj.get_original_data(data[0])\n",
    "        for i in range(0,len(data),2):\n",
    "            cv.circle(img[0],center=(data[i],data[i+1]),radius=1,\n",
    "                     color=(255,255,255))\n",
    "        cv.imshow('new',img[0])\n",
    "        if(cv.waitKey(1)&0xff ==ord('q')):\n",
    "            break\n",
    "\n",
    "    except :\n",
    "        pass\n",
    "cam.release()\n",
    "cv.destroyAllWindows()"
   ]
  },
  {
   "cell_type": "code",
   "execution_count": null,
   "metadata": {},
   "outputs": [],
   "source": []
  }
 ],
 "metadata": {
  "kernelspec": {
   "display_name": "Python 3",
   "language": "python",
   "name": "python3"
  },
  "language_info": {
   "codemirror_mode": {
    "name": "ipython",
    "version": 3
   },
   "file_extension": ".py",
   "mimetype": "text/x-python",
   "name": "python",
   "nbconvert_exporter": "python",
   "pygments_lexer": "ipython3",
   "version": "3.7.5"
  }
 },
 "nbformat": 4,
 "nbformat_minor": 4
}
